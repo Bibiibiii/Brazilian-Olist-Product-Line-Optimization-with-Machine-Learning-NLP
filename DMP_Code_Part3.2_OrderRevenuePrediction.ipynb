{
 "cells": [
  {
   "cell_type": "markdown",
   "metadata": {},
   "source": [
    "### Supervised Learning for Customer Revenue Prediction"
   ]
  },
  {
   "cell_type": "markdown",
   "metadata": {},
   "source": [
    "### Reading Data"
   ]
  },
  {
   "cell_type": "code",
   "execution_count": 60,
   "metadata": {
    "scrolled": true
   },
   "outputs": [
    {
     "name": "stderr",
     "output_type": "stream",
     "text": [
      "/Users/SahilSachdev/opt/anaconda3/lib/python3.8/site-packages/IPython/core/interactiveshell.py:3071: DtypeWarning: Columns (10,17,18,31,32,35,36) have mixed types.Specify dtype option on import or set low_memory=False.\n",
      "  has_raised = await self.run_ast_nodes(code_ast.body, cell_name,\n"
     ]
    },
    {
     "data": {
      "text/html": [
       "<div>\n",
       "<style scoped>\n",
       "    .dataframe tbody tr th:only-of-type {\n",
       "        vertical-align: middle;\n",
       "    }\n",
       "\n",
       "    .dataframe tbody tr th {\n",
       "        vertical-align: top;\n",
       "    }\n",
       "\n",
       "    .dataframe thead th {\n",
       "        text-align: right;\n",
       "    }\n",
       "</style>\n",
       "<table border=\"1\" class=\"dataframe\">\n",
       "  <thead>\n",
       "    <tr style=\"text-align: right;\">\n",
       "      <th></th>\n",
       "      <th>Unnamed: 0</th>\n",
       "      <th>order_id</th>\n",
       "      <th>customer_id</th>\n",
       "      <th>order_status</th>\n",
       "      <th>order_purchase_timestamp</th>\n",
       "      <th>order_approved_at</th>\n",
       "      <th>order_delivered_carrier_date</th>\n",
       "      <th>order_delivered_customer_date</th>\n",
       "      <th>order_estimated_delivery_date</th>\n",
       "      <th>review_id</th>\n",
       "      <th>...</th>\n",
       "      <th>product_height_cm</th>\n",
       "      <th>product_width_cm</th>\n",
       "      <th>zip_code_prefix_y</th>\n",
       "      <th>seller_city</th>\n",
       "      <th>seller_state</th>\n",
       "      <th>product_category_name_english</th>\n",
       "      <th>geolocation_lat_y</th>\n",
       "      <th>geolocation_lng_y</th>\n",
       "      <th>geolocation_city_y</th>\n",
       "      <th>geolocation_state_y</th>\n",
       "    </tr>\n",
       "  </thead>\n",
       "  <tbody>\n",
       "    <tr>\n",
       "      <th>0</th>\n",
       "      <td>0.0</td>\n",
       "      <td>e481f51cbdc54678b7cc49136f2d6af7</td>\n",
       "      <td>9ef432eb6251297304e76186b10a928d</td>\n",
       "      <td>delivered</td>\n",
       "      <td>2017-10-02 10:56:33</td>\n",
       "      <td>2017-10-02 11:07:15</td>\n",
       "      <td>2017-10-04 19:55:00</td>\n",
       "      <td>2017-10-10 21:25:13</td>\n",
       "      <td>2017-10-18 00:00:00</td>\n",
       "      <td>a54f0611adc9ed256b57ede6b6eb5114</td>\n",
       "      <td>...</td>\n",
       "      <td>8.0</td>\n",
       "      <td>13.0</td>\n",
       "      <td>9350.0</td>\n",
       "      <td>maua</td>\n",
       "      <td>SP</td>\n",
       "      <td>housewares</td>\n",
       "      <td>-23.680114</td>\n",
       "      <td>-46.452454</td>\n",
       "      <td>maua</td>\n",
       "      <td>SP</td>\n",
       "    </tr>\n",
       "    <tr>\n",
       "      <th>1</th>\n",
       "      <td>1.0</td>\n",
       "      <td>e481f51cbdc54678b7cc49136f2d6af7</td>\n",
       "      <td>9ef432eb6251297304e76186b10a928d</td>\n",
       "      <td>delivered</td>\n",
       "      <td>2017-10-02 10:56:33</td>\n",
       "      <td>2017-10-02 11:07:15</td>\n",
       "      <td>2017-10-04 19:55:00</td>\n",
       "      <td>2017-10-10 21:25:13</td>\n",
       "      <td>2017-10-18 00:00:00</td>\n",
       "      <td>a54f0611adc9ed256b57ede6b6eb5114</td>\n",
       "      <td>...</td>\n",
       "      <td>8.0</td>\n",
       "      <td>13.0</td>\n",
       "      <td>9350.0</td>\n",
       "      <td>maua</td>\n",
       "      <td>SP</td>\n",
       "      <td>housewares</td>\n",
       "      <td>-23.680114</td>\n",
       "      <td>-46.452454</td>\n",
       "      <td>maua</td>\n",
       "      <td>SP</td>\n",
       "    </tr>\n",
       "    <tr>\n",
       "      <th>2</th>\n",
       "      <td>2.0</td>\n",
       "      <td>e481f51cbdc54678b7cc49136f2d6af7</td>\n",
       "      <td>9ef432eb6251297304e76186b10a928d</td>\n",
       "      <td>delivered</td>\n",
       "      <td>2017-10-02 10:56:33</td>\n",
       "      <td>2017-10-02 11:07:15</td>\n",
       "      <td>2017-10-04 19:55:00</td>\n",
       "      <td>2017-10-10 21:25:13</td>\n",
       "      <td>2017-10-18 00:00:00</td>\n",
       "      <td>a54f0611adc9ed256b57ede6b6eb5114</td>\n",
       "      <td>...</td>\n",
       "      <td>8.0</td>\n",
       "      <td>13.0</td>\n",
       "      <td>9350.0</td>\n",
       "      <td>maua</td>\n",
       "      <td>SP</td>\n",
       "      <td>housewares</td>\n",
       "      <td>-23.680114</td>\n",
       "      <td>-46.452454</td>\n",
       "      <td>maua</td>\n",
       "      <td>SP</td>\n",
       "    </tr>\n",
       "    <tr>\n",
       "      <th>3</th>\n",
       "      <td>3.0</td>\n",
       "      <td>53cdb2fc8bc7dce0b6741e2150273451</td>\n",
       "      <td>b0830fb4747a6c6d20dea0b8c802d7ef</td>\n",
       "      <td>delivered</td>\n",
       "      <td>2018-07-24 20:41:37</td>\n",
       "      <td>2018-07-26 03:24:27</td>\n",
       "      <td>2018-07-26 14:31:00</td>\n",
       "      <td>2018-08-07 15:27:45</td>\n",
       "      <td>2018-08-13 00:00:00</td>\n",
       "      <td>8d5266042046a06655c8db133d120ba5</td>\n",
       "      <td>...</td>\n",
       "      <td>13.0</td>\n",
       "      <td>19.0</td>\n",
       "      <td>31570.0</td>\n",
       "      <td>belo horizonte</td>\n",
       "      <td>SP</td>\n",
       "      <td>perfumery</td>\n",
       "      <td>-19.810119</td>\n",
       "      <td>-43.984727</td>\n",
       "      <td>belo horizonte</td>\n",
       "      <td>MG</td>\n",
       "    </tr>\n",
       "    <tr>\n",
       "      <th>4</th>\n",
       "      <td>4.0</td>\n",
       "      <td>47770eb9100c2d0c44946d9cf07ec65d</td>\n",
       "      <td>41ce2a54c0b03bf3443c3d931a367089</td>\n",
       "      <td>delivered</td>\n",
       "      <td>2018-08-08 08:38:49</td>\n",
       "      <td>2018-08-08 08:55:23</td>\n",
       "      <td>2018-08-08 13:50:00</td>\n",
       "      <td>2018-08-17 18:06:29</td>\n",
       "      <td>2018-09-04 00:00:00</td>\n",
       "      <td>e73b67b67587f7644d5bd1a52deb1b01</td>\n",
       "      <td>...</td>\n",
       "      <td>19.0</td>\n",
       "      <td>21.0</td>\n",
       "      <td>14840.0</td>\n",
       "      <td>guariba</td>\n",
       "      <td>SP</td>\n",
       "      <td>auto</td>\n",
       "      <td>-21.362358</td>\n",
       "      <td>-48.232976</td>\n",
       "      <td>guariba</td>\n",
       "      <td>SP</td>\n",
       "    </tr>\n",
       "    <tr>\n",
       "      <th>5</th>\n",
       "      <td>5.0</td>\n",
       "      <td>949d5b44dbf5de918fe9c16f97b45f8a</td>\n",
       "      <td>f88197465ea7920adcdbec7375364d82</td>\n",
       "      <td>delivered</td>\n",
       "      <td>2017-11-18 19:28:06</td>\n",
       "      <td>2017-11-18 19:45:59</td>\n",
       "      <td>2017-11-22 13:39:59</td>\n",
       "      <td>2017-12-02 00:28:42</td>\n",
       "      <td>2017-12-15 00:00:00</td>\n",
       "      <td>359d03e676b3c069f62cadba8dd3f6e8</td>\n",
       "      <td>...</td>\n",
       "      <td>10.0</td>\n",
       "      <td>20.0</td>\n",
       "      <td>31842.0</td>\n",
       "      <td>belo horizonte</td>\n",
       "      <td>MG</td>\n",
       "      <td>pet_shop</td>\n",
       "      <td>-19.840168</td>\n",
       "      <td>-43.923299</td>\n",
       "      <td>belo horizonte</td>\n",
       "      <td>MG</td>\n",
       "    </tr>\n",
       "    <tr>\n",
       "      <th>6</th>\n",
       "      <td>6.0</td>\n",
       "      <td>ad21c59c0840e6cb83a9ceb5573f8159</td>\n",
       "      <td>8ab97904e6daea8866dbdbc4fb7aad2c</td>\n",
       "      <td>delivered</td>\n",
       "      <td>2018-02-13 21:18:39</td>\n",
       "      <td>2018-02-13 22:20:29</td>\n",
       "      <td>2018-02-14 19:46:34</td>\n",
       "      <td>2018-02-16 18:17:02</td>\n",
       "      <td>2018-02-26 00:00:00</td>\n",
       "      <td>e50934924e227544ba8246aeb3770dd4</td>\n",
       "      <td>...</td>\n",
       "      <td>15.0</td>\n",
       "      <td>15.0</td>\n",
       "      <td>8752.0</td>\n",
       "      <td>mogi das cruzes</td>\n",
       "      <td>SP</td>\n",
       "      <td>stationery</td>\n",
       "      <td>-23.551707</td>\n",
       "      <td>-46.260979</td>\n",
       "      <td>mogi das cruzes</td>\n",
       "      <td>SP</td>\n",
       "    </tr>\n",
       "    <tr>\n",
       "      <th>7</th>\n",
       "      <td>7.0</td>\n",
       "      <td>a4591c265e18cb1dcee52889e2d8acc3</td>\n",
       "      <td>503740e9ca751ccdda7ba28e9ab8f608</td>\n",
       "      <td>delivered</td>\n",
       "      <td>2017-07-09 21:57:05</td>\n",
       "      <td>2017-07-09 22:10:13</td>\n",
       "      <td>2017-07-11 14:58:04</td>\n",
       "      <td>2017-07-26 10:57:55</td>\n",
       "      <td>2017-08-01 00:00:00</td>\n",
       "      <td>89b738e70a1ce346db29a20fb2910161</td>\n",
       "      <td>...</td>\n",
       "      <td>10.0</td>\n",
       "      <td>65.0</td>\n",
       "      <td>7112.0</td>\n",
       "      <td>guarulhos</td>\n",
       "      <td>SP</td>\n",
       "      <td>auto</td>\n",
       "      <td>-23.465304</td>\n",
       "      <td>-46.511487</td>\n",
       "      <td>guarulhos</td>\n",
       "      <td>SP</td>\n",
       "    </tr>\n",
       "    <tr>\n",
       "      <th>8</th>\n",
       "      <td>8.0</td>\n",
       "      <td>6514b8ad8028c9f2cc2374ded245783f</td>\n",
       "      <td>9bdf08b4b3b52b5526ff42d37d47f222</td>\n",
       "      <td>delivered</td>\n",
       "      <td>2017-05-16 13:10:30</td>\n",
       "      <td>2017-05-16 13:22:11</td>\n",
       "      <td>2017-05-22 10:07:46</td>\n",
       "      <td>2017-05-26 12:55:51</td>\n",
       "      <td>2017-06-07 00:00:00</td>\n",
       "      <td>07d67dd06ed5f88bef11ef6b464e79ae</td>\n",
       "      <td>...</td>\n",
       "      <td>16.0</td>\n",
       "      <td>17.0</td>\n",
       "      <td>12940.0</td>\n",
       "      <td>atibaia</td>\n",
       "      <td>SP</td>\n",
       "      <td>auto</td>\n",
       "      <td>-23.112774</td>\n",
       "      <td>-46.548885</td>\n",
       "      <td>atibaia</td>\n",
       "      <td>SP</td>\n",
       "    </tr>\n",
       "    <tr>\n",
       "      <th>9</th>\n",
       "      <td>9.0</td>\n",
       "      <td>76c6e866289321a7c93b82b54852dc33</td>\n",
       "      <td>f54a9f0e6b351c431402b8461ea51999</td>\n",
       "      <td>delivered</td>\n",
       "      <td>2017-01-23 18:29:09</td>\n",
       "      <td>2017-01-25 02:50:47</td>\n",
       "      <td>2017-01-26 14:16:31</td>\n",
       "      <td>2017-02-02 14:08:10</td>\n",
       "      <td>2017-03-06 00:00:00</td>\n",
       "      <td>fc4af8aea8ec3f1a3cd181d3d0cadbd5</td>\n",
       "      <td>...</td>\n",
       "      <td>35.0</td>\n",
       "      <td>15.0</td>\n",
       "      <td>13720.0</td>\n",
       "      <td>sao jose do rio pardo</td>\n",
       "      <td>SP</td>\n",
       "      <td>furniture_decor</td>\n",
       "      <td>-21.592175</td>\n",
       "      <td>-46.893896</td>\n",
       "      <td>são josé do rio pardo</td>\n",
       "      <td>SP</td>\n",
       "    </tr>\n",
       "  </tbody>\n",
       "</table>\n",
       "<p>10 rows × 49 columns</p>\n",
       "</div>"
      ],
      "text/plain": [
       "   Unnamed: 0                          order_id  \\\n",
       "0         0.0  e481f51cbdc54678b7cc49136f2d6af7   \n",
       "1         1.0  e481f51cbdc54678b7cc49136f2d6af7   \n",
       "2         2.0  e481f51cbdc54678b7cc49136f2d6af7   \n",
       "3         3.0  53cdb2fc8bc7dce0b6741e2150273451   \n",
       "4         4.0  47770eb9100c2d0c44946d9cf07ec65d   \n",
       "5         5.0  949d5b44dbf5de918fe9c16f97b45f8a   \n",
       "6         6.0  ad21c59c0840e6cb83a9ceb5573f8159   \n",
       "7         7.0  a4591c265e18cb1dcee52889e2d8acc3   \n",
       "8         8.0  6514b8ad8028c9f2cc2374ded245783f   \n",
       "9         9.0  76c6e866289321a7c93b82b54852dc33   \n",
       "\n",
       "                        customer_id order_status order_purchase_timestamp  \\\n",
       "0  9ef432eb6251297304e76186b10a928d    delivered      2017-10-02 10:56:33   \n",
       "1  9ef432eb6251297304e76186b10a928d    delivered      2017-10-02 10:56:33   \n",
       "2  9ef432eb6251297304e76186b10a928d    delivered      2017-10-02 10:56:33   \n",
       "3  b0830fb4747a6c6d20dea0b8c802d7ef    delivered      2018-07-24 20:41:37   \n",
       "4  41ce2a54c0b03bf3443c3d931a367089    delivered      2018-08-08 08:38:49   \n",
       "5  f88197465ea7920adcdbec7375364d82    delivered      2017-11-18 19:28:06   \n",
       "6  8ab97904e6daea8866dbdbc4fb7aad2c    delivered      2018-02-13 21:18:39   \n",
       "7  503740e9ca751ccdda7ba28e9ab8f608    delivered      2017-07-09 21:57:05   \n",
       "8  9bdf08b4b3b52b5526ff42d37d47f222    delivered      2017-05-16 13:10:30   \n",
       "9  f54a9f0e6b351c431402b8461ea51999    delivered      2017-01-23 18:29:09   \n",
       "\n",
       "     order_approved_at order_delivered_carrier_date  \\\n",
       "0  2017-10-02 11:07:15          2017-10-04 19:55:00   \n",
       "1  2017-10-02 11:07:15          2017-10-04 19:55:00   \n",
       "2  2017-10-02 11:07:15          2017-10-04 19:55:00   \n",
       "3  2018-07-26 03:24:27          2018-07-26 14:31:00   \n",
       "4  2018-08-08 08:55:23          2018-08-08 13:50:00   \n",
       "5  2017-11-18 19:45:59          2017-11-22 13:39:59   \n",
       "6  2018-02-13 22:20:29          2018-02-14 19:46:34   \n",
       "7  2017-07-09 22:10:13          2017-07-11 14:58:04   \n",
       "8  2017-05-16 13:22:11          2017-05-22 10:07:46   \n",
       "9  2017-01-25 02:50:47          2017-01-26 14:16:31   \n",
       "\n",
       "  order_delivered_customer_date order_estimated_delivery_date  \\\n",
       "0           2017-10-10 21:25:13           2017-10-18 00:00:00   \n",
       "1           2017-10-10 21:25:13           2017-10-18 00:00:00   \n",
       "2           2017-10-10 21:25:13           2017-10-18 00:00:00   \n",
       "3           2018-08-07 15:27:45           2018-08-13 00:00:00   \n",
       "4           2018-08-17 18:06:29           2018-09-04 00:00:00   \n",
       "5           2017-12-02 00:28:42           2017-12-15 00:00:00   \n",
       "6           2018-02-16 18:17:02           2018-02-26 00:00:00   \n",
       "7           2017-07-26 10:57:55           2017-08-01 00:00:00   \n",
       "8           2017-05-26 12:55:51           2017-06-07 00:00:00   \n",
       "9           2017-02-02 14:08:10           2017-03-06 00:00:00   \n",
       "\n",
       "                          review_id  ... product_height_cm product_width_cm  \\\n",
       "0  a54f0611adc9ed256b57ede6b6eb5114  ...               8.0             13.0   \n",
       "1  a54f0611adc9ed256b57ede6b6eb5114  ...               8.0             13.0   \n",
       "2  a54f0611adc9ed256b57ede6b6eb5114  ...               8.0             13.0   \n",
       "3  8d5266042046a06655c8db133d120ba5  ...              13.0             19.0   \n",
       "4  e73b67b67587f7644d5bd1a52deb1b01  ...              19.0             21.0   \n",
       "5  359d03e676b3c069f62cadba8dd3f6e8  ...              10.0             20.0   \n",
       "6  e50934924e227544ba8246aeb3770dd4  ...              15.0             15.0   \n",
       "7  89b738e70a1ce346db29a20fb2910161  ...              10.0             65.0   \n",
       "8  07d67dd06ed5f88bef11ef6b464e79ae  ...              16.0             17.0   \n",
       "9  fc4af8aea8ec3f1a3cd181d3d0cadbd5  ...              35.0             15.0   \n",
       "\n",
       "  zip_code_prefix_y            seller_city seller_state  \\\n",
       "0            9350.0                   maua           SP   \n",
       "1            9350.0                   maua           SP   \n",
       "2            9350.0                   maua           SP   \n",
       "3           31570.0         belo horizonte           SP   \n",
       "4           14840.0                guariba           SP   \n",
       "5           31842.0         belo horizonte           MG   \n",
       "6            8752.0        mogi das cruzes           SP   \n",
       "7            7112.0              guarulhos           SP   \n",
       "8           12940.0                atibaia           SP   \n",
       "9           13720.0  sao jose do rio pardo           SP   \n",
       "\n",
       "   product_category_name_english geolocation_lat_y geolocation_lng_y  \\\n",
       "0                     housewares        -23.680114        -46.452454   \n",
       "1                     housewares        -23.680114        -46.452454   \n",
       "2                     housewares        -23.680114        -46.452454   \n",
       "3                      perfumery        -19.810119        -43.984727   \n",
       "4                           auto        -21.362358        -48.232976   \n",
       "5                       pet_shop        -19.840168        -43.923299   \n",
       "6                     stationery        -23.551707        -46.260979   \n",
       "7                           auto        -23.465304        -46.511487   \n",
       "8                           auto        -23.112774        -46.548885   \n",
       "9                furniture_decor        -21.592175        -46.893896   \n",
       "\n",
       "      geolocation_city_y geolocation_state_y  \n",
       "0                   maua                  SP  \n",
       "1                   maua                  SP  \n",
       "2                   maua                  SP  \n",
       "3         belo horizonte                  MG  \n",
       "4                guariba                  SP  \n",
       "5         belo horizonte                  MG  \n",
       "6        mogi das cruzes                  SP  \n",
       "7              guarulhos                  SP  \n",
       "8                atibaia                  SP  \n",
       "9  são josé do rio pardo                  SP  \n",
       "\n",
       "[10 rows x 49 columns]"
      ]
     },
     "execution_count": 60,
     "metadata": {},
     "output_type": "execute_result"
    }
   ],
   "source": [
    "#Importing Combined Dataset - Olist.csv\n",
    "olist_data = pd.read_csv('olist.csv')\n",
    "olist_data.head(10)"
   ]
  },
  {
   "cell_type": "code",
   "execution_count": 61,
   "metadata": {
    "scrolled": true
   },
   "outputs": [
    {
     "name": "stdout",
     "output_type": "stream",
     "text": [
      "<class 'pandas.core.frame.DataFrame'>\n",
      "RangeIndex: 116584 entries, 0 to 116583\n",
      "Data columns (total 49 columns):\n",
      " #   Column                         Non-Null Count   Dtype  \n",
      "---  ------                         --------------   -----  \n",
      " 0   Unnamed: 0                     116581 non-null  float64\n",
      " 1   order_id                       116584 non-null  object \n",
      " 2   customer_id                    116584 non-null  object \n",
      " 3   order_status                   116584 non-null  object \n",
      " 4   order_purchase_timestamp       116584 non-null  object \n",
      " 5   order_approved_at              116570 non-null  object \n",
      " 6   order_delivered_carrier_date   115371 non-null  object \n",
      " 7   order_delivered_customer_date  114069 non-null  object \n",
      " 8   order_estimated_delivery_date  116584 non-null  object \n",
      " 9   review_id                      116584 non-null  object \n",
      " 10  review_score                   116584 non-null  object \n",
      " 11  review_comment_title           13999 non-null   object \n",
      " 12  review_comment_message         49881 non-null   object \n",
      " 13  review_creation_date           116581 non-null  object \n",
      " 14  review_answer_timestamp        116581 non-null  object \n",
      " 15  payment_sequential             116581 non-null  float64\n",
      " 16  payment_type                   116581 non-null  object \n",
      " 17  payment_installments           116581 non-null  object \n",
      " 18  payment_value                  116581 non-null  object \n",
      " 19  customer_unique_id             116581 non-null  object \n",
      " 20  zip_code_prefix_x              116581 non-null  float64\n",
      " 21  customer_city                  116581 non-null  object \n",
      " 22  customer_state                 116581 non-null  object \n",
      " 23  geolocation_lat_x              116270 non-null  float64\n",
      " 24  geolocation_lng_x              116270 non-null  float64\n",
      " 25  geolocation_city_x             116270 non-null  object \n",
      " 26  geolocation_state_x            116270 non-null  object \n",
      " 27  order_item_id                  116581 non-null  float64\n",
      " 28  product_id                     116581 non-null  object \n",
      " 29  seller_id                      116581 non-null  object \n",
      " 30  shipping_limit_date            116581 non-null  object \n",
      " 31  price                          116581 non-null  object \n",
      " 32  freight_value                  116581 non-null  object \n",
      " 33  product_category_name          116581 non-null  object \n",
      " 34  product_name_length            116581 non-null  float64\n",
      " 35  product_description_length     116581 non-null  object \n",
      " 36  product_photos_qty             116581 non-null  object \n",
      " 37  product_weight_g               116577 non-null  float64\n",
      " 38  product_length_cm              116577 non-null  float64\n",
      " 39  product_height_cm              116577 non-null  float64\n",
      " 40  product_width_cm               116577 non-null  float64\n",
      " 41  zip_code_prefix_y              116578 non-null  float64\n",
      " 42  seller_city                    116578 non-null  object \n",
      " 43  seller_state                   116578 non-null  object \n",
      " 44  product_category_name_english  116578 non-null  object \n",
      " 45  geolocation_lat_y              116314 non-null  float64\n",
      " 46  geolocation_lng_y              116314 non-null  float64\n",
      " 47  geolocation_city_y             116314 non-null  object \n",
      " 48  geolocation_state_y            116314 non-null  object \n",
      "dtypes: float64(14), object(35)\n",
      "memory usage: 43.6+ MB\n"
     ]
    }
   ],
   "source": [
    "#Viewing Olist Dataset\n",
    "olist_data.info()"
   ]
  },
  {
   "cell_type": "markdown",
   "metadata": {},
   "source": [
    "### Data Cleaning - Dropping Columns, Dropping NAs, Changing Data Types"
   ]
  },
  {
   "cell_type": "code",
   "execution_count": 62,
   "metadata": {},
   "outputs": [],
   "source": [
    "# Dropping Columns - id columns (ex, review_id, customer_id, product_id, seller_id), date columnns (order_delivered_carrier_date, order_delivered_customer_date, etc), redundant (ex. zip_code_prefix, geolocation_lat/lng, geolocation_city, etc) and unnessary columns (seller_city, seller_state, payment_sequential, etc). \n",
    "olist_data = olist_data.drop(['review_id', 'customer_id', 'order_status', 'order_purchase_timestamp', 'order_approved_at', 'order_delivered_carrier_date', 'order_delivered_customer_date', 'order_estimated_delivery_date', 'review_comment_title', 'review_comment_message', 'Unnamed: 0', 'zip_code_prefix_x', 'zip_code_prefix_y', 'payment_sequential', 'product_category_name', 'review_creation_date', 'review_answer_timestamp', 'customer_unique_id', 'geolocation_lat_x', 'geolocation_lng_x', 'geolocation_city_x', 'geolocation_state_x', 'order_item_id', 'product_id', 'seller_id', 'shipping_limit_date', 'freight_value', 'product_name_length', 'product_description_length', 'product_weight_g', 'product_length_cm', 'product_height_cm', 'product_width_cm', 'seller_city', 'seller_state', 'geolocation_lat_y', 'geolocation_lng_y', 'geolocation_city_y', 'geolocation_state_y'], axis=1)"
   ]
  },
  {
   "cell_type": "code",
   "execution_count": 63,
   "metadata": {},
   "outputs": [
    {
     "name": "stdout",
     "output_type": "stream",
     "text": [
      "<class 'pandas.core.frame.DataFrame'>\n",
      "RangeIndex: 116584 entries, 0 to 116583\n",
      "Data columns (total 10 columns):\n",
      " #   Column                         Non-Null Count   Dtype \n",
      "---  ------                         --------------   ----- \n",
      " 0   order_id                       116584 non-null  object\n",
      " 1   review_score                   116584 non-null  object\n",
      " 2   payment_type                   116581 non-null  object\n",
      " 3   payment_installments           116581 non-null  object\n",
      " 4   payment_value                  116581 non-null  object\n",
      " 5   customer_city                  116581 non-null  object\n",
      " 6   customer_state                 116581 non-null  object\n",
      " 7   price                          116581 non-null  object\n",
      " 8   product_photos_qty             116581 non-null  object\n",
      " 9   product_category_name_english  116578 non-null  object\n",
      "dtypes: object(10)\n",
      "memory usage: 8.9+ MB\n"
     ]
    }
   ],
   "source": [
    "# Viewing Olist Data after dropping rows\n",
    "olist_data.info()"
   ]
  },
  {
   "cell_type": "code",
   "execution_count": 64,
   "metadata": {},
   "outputs": [
    {
     "data": {
      "text/plain": [
       "order_id                         0\n",
       "review_score                     0\n",
       "payment_type                     3\n",
       "payment_installments             3\n",
       "payment_value                    3\n",
       "customer_city                    3\n",
       "customer_state                   3\n",
       "price                            3\n",
       "product_photos_qty               3\n",
       "product_category_name_english    6\n",
       "dtype: int64"
      ]
     },
     "execution_count": 64,
     "metadata": {},
     "output_type": "execute_result"
    }
   ],
   "source": [
    "# Viewing number of NA Values per feature\n",
    "olist_data.isna().sum()"
   ]
  },
  {
   "cell_type": "code",
   "execution_count": 65,
   "metadata": {},
   "outputs": [
    {
     "data": {
      "text/plain": [
       "order_id                         0\n",
       "review_score                     0\n",
       "payment_type                     0\n",
       "payment_installments             0\n",
       "payment_value                    0\n",
       "customer_city                    0\n",
       "customer_state                   0\n",
       "price                            0\n",
       "product_photos_qty               0\n",
       "product_category_name_english    0\n",
       "dtype: int64"
      ]
     },
     "execution_count": 65,
     "metadata": {},
     "output_type": "execute_result"
    }
   ],
   "source": [
    "# Dropping the rows with NA Values from product_category_name_english and testing it that would remove all the other NA values.\n",
    "olist_data=olist_data.dropna(subset=[\"product_category_name_english\"])\n",
    "olist_data.isna().sum()"
   ]
  },
  {
   "cell_type": "code",
   "execution_count": 66,
   "metadata": {},
   "outputs": [],
   "source": [
    "# Now that all NA Values have been removed, converting Datatypes to Float\n",
    "olist_data['review_score'] = olist_data['review_score'].astype(float)\n",
    "olist_data['payment_installments'] = olist_data['payment_installments'].astype(float)\n",
    "olist_data['payment_value'] = olist_data['payment_value'].astype(float)\n",
    "olist_data['price'] = olist_data['price'].astype(float)\n",
    "olist_data['product_photos_qty'] = olist_data['product_photos_qty'].astype(float)"
   ]
  },
  {
   "cell_type": "code",
   "execution_count": 67,
   "metadata": {},
   "outputs": [
    {
     "data": {
      "text/plain": [
       "0          18.12\n",
       "1           2.00\n",
       "2          18.59\n",
       "3         141.46\n",
       "4         179.12\n",
       "           ...  \n",
       "116579    195.00\n",
       "116580    271.01\n",
       "116581    441.16\n",
       "116582    441.16\n",
       "116583     86.86\n",
       "Name: payment_value, Length: 116578, dtype: float64"
      ]
     },
     "execution_count": 67,
     "metadata": {},
     "output_type": "execute_result"
    }
   ],
   "source": [
    "# Converting payment_value to numeric\n",
    "pd.to_numeric(olist_data['payment_value'], errors='coerce')"
   ]
  },
  {
   "cell_type": "code",
   "execution_count": 68,
   "metadata": {},
   "outputs": [
    {
     "data": {
      "text/html": [
       "<div>\n",
       "<style scoped>\n",
       "    .dataframe tbody tr th:only-of-type {\n",
       "        vertical-align: middle;\n",
       "    }\n",
       "\n",
       "    .dataframe tbody tr th {\n",
       "        vertical-align: top;\n",
       "    }\n",
       "\n",
       "    .dataframe thead th {\n",
       "        text-align: right;\n",
       "    }\n",
       "</style>\n",
       "<table border=\"1\" class=\"dataframe\">\n",
       "  <thead>\n",
       "    <tr style=\"text-align: right;\">\n",
       "      <th></th>\n",
       "      <th>review_score</th>\n",
       "      <th>payment_installments</th>\n",
       "      <th>payment_value</th>\n",
       "      <th>price</th>\n",
       "      <th>product_photos_qty</th>\n",
       "    </tr>\n",
       "  </thead>\n",
       "  <tbody>\n",
       "    <tr>\n",
       "      <th>count</th>\n",
       "      <td>116578.000000</td>\n",
       "      <td>116578.000000</td>\n",
       "      <td>116578.000000</td>\n",
       "      <td>116578.000000</td>\n",
       "      <td>116578.000000</td>\n",
       "    </tr>\n",
       "    <tr>\n",
       "      <th>mean</th>\n",
       "      <td>4.017516</td>\n",
       "      <td>2.949630</td>\n",
       "      <td>172.911469</td>\n",
       "      <td>120.752669</td>\n",
       "      <td>2.204996</td>\n",
       "    </tr>\n",
       "    <tr>\n",
       "      <th>std</th>\n",
       "      <td>1.397870</td>\n",
       "      <td>2.783815</td>\n",
       "      <td>267.625852</td>\n",
       "      <td>183.850525</td>\n",
       "      <td>1.717424</td>\n",
       "    </tr>\n",
       "    <tr>\n",
       "      <th>min</th>\n",
       "      <td>1.000000</td>\n",
       "      <td>0.000000</td>\n",
       "      <td>0.000000</td>\n",
       "      <td>0.850000</td>\n",
       "      <td>1.000000</td>\n",
       "    </tr>\n",
       "    <tr>\n",
       "      <th>25%</th>\n",
       "      <td>4.000000</td>\n",
       "      <td>1.000000</td>\n",
       "      <td>61.000000</td>\n",
       "      <td>39.900000</td>\n",
       "      <td>1.000000</td>\n",
       "    </tr>\n",
       "    <tr>\n",
       "      <th>50%</th>\n",
       "      <td>5.000000</td>\n",
       "      <td>2.000000</td>\n",
       "      <td>108.190000</td>\n",
       "      <td>74.900000</td>\n",
       "      <td>1.000000</td>\n",
       "    </tr>\n",
       "    <tr>\n",
       "      <th>75%</th>\n",
       "      <td>5.000000</td>\n",
       "      <td>4.000000</td>\n",
       "      <td>189.720000</td>\n",
       "      <td>134.900000</td>\n",
       "      <td>3.000000</td>\n",
       "    </tr>\n",
       "    <tr>\n",
       "      <th>max</th>\n",
       "      <td>5.000000</td>\n",
       "      <td>24.000000</td>\n",
       "      <td>13664.080000</td>\n",
       "      <td>6735.000000</td>\n",
       "      <td>20.000000</td>\n",
       "    </tr>\n",
       "  </tbody>\n",
       "</table>\n",
       "</div>"
      ],
      "text/plain": [
       "        review_score  payment_installments  payment_value          price  \\\n",
       "count  116578.000000         116578.000000  116578.000000  116578.000000   \n",
       "mean        4.017516              2.949630     172.911469     120.752669   \n",
       "std         1.397870              2.783815     267.625852     183.850525   \n",
       "min         1.000000              0.000000       0.000000       0.850000   \n",
       "25%         4.000000              1.000000      61.000000      39.900000   \n",
       "50%         5.000000              2.000000     108.190000      74.900000   \n",
       "75%         5.000000              4.000000     189.720000     134.900000   \n",
       "max         5.000000             24.000000   13664.080000    6735.000000   \n",
       "\n",
       "       product_photos_qty  \n",
       "count       116578.000000  \n",
       "mean             2.204996  \n",
       "std              1.717424  \n",
       "min              1.000000  \n",
       "25%              1.000000  \n",
       "50%              1.000000  \n",
       "75%              3.000000  \n",
       "max             20.000000  "
      ]
     },
     "execution_count": 68,
     "metadata": {},
     "output_type": "execute_result"
    }
   ],
   "source": [
    "# Confirming Rows Above Converted to Float and Viewing Data\n",
    "olist_data.describe()"
   ]
  },
  {
   "cell_type": "markdown",
   "metadata": {},
   "source": [
    "### Describing Individual Columns with Object Datatype to See Unique Values"
   ]
  },
  {
   "cell_type": "code",
   "execution_count": 69,
   "metadata": {},
   "outputs": [
    {
     "data": {
      "text/plain": [
       "count          116578\n",
       "unique              4\n",
       "top       credit_card\n",
       "freq            86011\n",
       "Name: payment_type, dtype: object"
      ]
     },
     "execution_count": 69,
     "metadata": {},
     "output_type": "execute_result"
    }
   ],
   "source": [
    "# payment_type feature has 4 unique values\n",
    "olist_data['payment_type'].describe()"
   ]
  },
  {
   "cell_type": "code",
   "execution_count": 70,
   "metadata": {},
   "outputs": [
    {
     "data": {
      "text/plain": [
       "credit_card    86011\n",
       "boleto         22690\n",
       "voucher         6211\n",
       "debit_card      1666\n",
       "Name: payment_type, dtype: int64"
      ]
     },
     "execution_count": 70,
     "metadata": {},
     "output_type": "execute_result"
    }
   ],
   "source": [
    "# payment_type feature\n",
    "olist_data['payment_type'].value_counts()"
   ]
  },
  {
   "cell_type": "code",
   "execution_count": 71,
   "metadata": {},
   "outputs": [
    {
     "data": {
      "text/plain": [
       "count     116578\n",
       "unique        27\n",
       "top           SP\n",
       "freq       49132\n",
       "Name: customer_state, dtype: object"
      ]
     },
     "execution_count": 71,
     "metadata": {},
     "output_type": "execute_result"
    }
   ],
   "source": [
    "olist_data['customer_state'].describe()"
   ]
  },
  {
   "cell_type": "code",
   "execution_count": 72,
   "metadata": {},
   "outputs": [
    {
     "data": {
      "text/plain": [
       "count             116578\n",
       "unique                71\n",
       "top       bed_bath_table\n",
       "freq               11990\n",
       "Name: product_category_name_english, dtype: object"
      ]
     },
     "execution_count": 72,
     "metadata": {},
     "output_type": "execute_result"
    }
   ],
   "source": [
    "olist_data['product_category_name_english'].describe()"
   ]
  },
  {
   "cell_type": "code",
   "execution_count": 73,
   "metadata": {},
   "outputs": [
    {
     "data": {
      "text/plain": [
       "count    116578.000000\n",
       "mean          2.949630\n",
       "std           2.783815\n",
       "min           0.000000\n",
       "25%           1.000000\n",
       "50%           2.000000\n",
       "75%           4.000000\n",
       "max          24.000000\n",
       "Name: payment_installments, dtype: float64"
      ]
     },
     "execution_count": 73,
     "metadata": {},
     "output_type": "execute_result"
    }
   ],
   "source": [
    "olist_data['payment_installments'].describe()"
   ]
  },
  {
   "cell_type": "code",
   "execution_count": 74,
   "metadata": {},
   "outputs": [
    {
     "data": {
      "text/plain": [
       "1.0     58028\n",
       "2.0     13515\n",
       "3.0     11653\n",
       "4.0      7926\n",
       "10.0     6867\n",
       "5.0      5982\n",
       "8.0      5055\n",
       "6.0      4587\n",
       "7.0      1804\n",
       "9.0       724\n",
       "12.0      166\n",
       "15.0       93\n",
       "18.0       38\n",
       "24.0       34\n",
       "11.0       25\n",
       "20.0       21\n",
       "13.0       19\n",
       "14.0       16\n",
       "16.0        7\n",
       "17.0        7\n",
       "21.0        6\n",
       "0.0         3\n",
       "22.0        1\n",
       "23.0        1\n",
       "Name: payment_installments, dtype: int64"
      ]
     },
     "execution_count": 74,
     "metadata": {},
     "output_type": "execute_result"
    }
   ],
   "source": [
    "olist_data['payment_installments'].value_counts()"
   ]
  },
  {
   "cell_type": "code",
   "execution_count": 75,
   "metadata": {},
   "outputs": [
    {
     "name": "stdout",
     "output_type": "stream",
     "text": [
      "<class 'pandas.core.frame.DataFrame'>\n",
      "Int64Index: 116578 entries, 0 to 116583\n",
      "Data columns (total 10 columns):\n",
      " #   Column                         Non-Null Count   Dtype  \n",
      "---  ------                         --------------   -----  \n",
      " 0   order_id                       116578 non-null  object \n",
      " 1   review_score                   116578 non-null  float64\n",
      " 2   payment_type                   116578 non-null  object \n",
      " 3   payment_installments           116578 non-null  float64\n",
      " 4   payment_value                  116578 non-null  float64\n",
      " 5   customer_city                  116578 non-null  object \n",
      " 6   customer_state                 116578 non-null  object \n",
      " 7   price                          116578 non-null  float64\n",
      " 8   product_photos_qty             116578 non-null  float64\n",
      " 9   product_category_name_english  116578 non-null  object \n",
      "dtypes: float64(5), object(5)\n",
      "memory usage: 9.8+ MB\n"
     ]
    }
   ],
   "source": [
    "#Final Data Check \n",
    "olist_data.info()"
   ]
  },
  {
   "cell_type": "code",
   "execution_count": 76,
   "metadata": {},
   "outputs": [],
   "source": [
    "#Creating new column - totalpayment_value (Target) - aggregating individual product payment_value based on order_id so that totalpayment_value is the total value of the order\n",
    "olist_data['totalpayment_value'] = olist_data['payment_value'].groupby(olist_data['order_id']).transform('sum')"
   ]
  },
  {
   "cell_type": "code",
   "execution_count": 77,
   "metadata": {
    "scrolled": true
   },
   "outputs": [
    {
     "data": {
      "text/html": [
       "<div>\n",
       "<style scoped>\n",
       "    .dataframe tbody tr th:only-of-type {\n",
       "        vertical-align: middle;\n",
       "    }\n",
       "\n",
       "    .dataframe tbody tr th {\n",
       "        vertical-align: top;\n",
       "    }\n",
       "\n",
       "    .dataframe thead th {\n",
       "        text-align: right;\n",
       "    }\n",
       "</style>\n",
       "<table border=\"1\" class=\"dataframe\">\n",
       "  <thead>\n",
       "    <tr style=\"text-align: right;\">\n",
       "      <th></th>\n",
       "      <th>order_id</th>\n",
       "      <th>review_score</th>\n",
       "      <th>payment_type</th>\n",
       "      <th>payment_installments</th>\n",
       "      <th>payment_value</th>\n",
       "      <th>customer_city</th>\n",
       "      <th>customer_state</th>\n",
       "      <th>price</th>\n",
       "      <th>product_photos_qty</th>\n",
       "      <th>product_category_name_english</th>\n",
       "      <th>totalpayment_value</th>\n",
       "    </tr>\n",
       "  </thead>\n",
       "  <tbody>\n",
       "    <tr>\n",
       "      <th>0</th>\n",
       "      <td>e481f51cbdc54678b7cc49136f2d6af7</td>\n",
       "      <td>4.0</td>\n",
       "      <td>credit_card</td>\n",
       "      <td>1.0</td>\n",
       "      <td>18.12</td>\n",
       "      <td>sao paulo</td>\n",
       "      <td>SP</td>\n",
       "      <td>29.99</td>\n",
       "      <td>4.0</td>\n",
       "      <td>housewares</td>\n",
       "      <td>38.71</td>\n",
       "    </tr>\n",
       "    <tr>\n",
       "      <th>1</th>\n",
       "      <td>e481f51cbdc54678b7cc49136f2d6af7</td>\n",
       "      <td>4.0</td>\n",
       "      <td>voucher</td>\n",
       "      <td>1.0</td>\n",
       "      <td>2.00</td>\n",
       "      <td>sao paulo</td>\n",
       "      <td>SP</td>\n",
       "      <td>29.99</td>\n",
       "      <td>4.0</td>\n",
       "      <td>housewares</td>\n",
       "      <td>38.71</td>\n",
       "    </tr>\n",
       "    <tr>\n",
       "      <th>2</th>\n",
       "      <td>e481f51cbdc54678b7cc49136f2d6af7</td>\n",
       "      <td>4.0</td>\n",
       "      <td>voucher</td>\n",
       "      <td>1.0</td>\n",
       "      <td>18.59</td>\n",
       "      <td>sao paulo</td>\n",
       "      <td>SP</td>\n",
       "      <td>29.99</td>\n",
       "      <td>4.0</td>\n",
       "      <td>housewares</td>\n",
       "      <td>38.71</td>\n",
       "    </tr>\n",
       "    <tr>\n",
       "      <th>3</th>\n",
       "      <td>53cdb2fc8bc7dce0b6741e2150273451</td>\n",
       "      <td>4.0</td>\n",
       "      <td>boleto</td>\n",
       "      <td>1.0</td>\n",
       "      <td>141.46</td>\n",
       "      <td>barreiras</td>\n",
       "      <td>BA</td>\n",
       "      <td>118.70</td>\n",
       "      <td>1.0</td>\n",
       "      <td>perfumery</td>\n",
       "      <td>141.46</td>\n",
       "    </tr>\n",
       "    <tr>\n",
       "      <th>4</th>\n",
       "      <td>47770eb9100c2d0c44946d9cf07ec65d</td>\n",
       "      <td>5.0</td>\n",
       "      <td>credit_card</td>\n",
       "      <td>3.0</td>\n",
       "      <td>179.12</td>\n",
       "      <td>vianopolis</td>\n",
       "      <td>GO</td>\n",
       "      <td>159.90</td>\n",
       "      <td>1.0</td>\n",
       "      <td>auto</td>\n",
       "      <td>179.12</td>\n",
       "    </tr>\n",
       "    <tr>\n",
       "      <th>5</th>\n",
       "      <td>949d5b44dbf5de918fe9c16f97b45f8a</td>\n",
       "      <td>5.0</td>\n",
       "      <td>credit_card</td>\n",
       "      <td>1.0</td>\n",
       "      <td>72.20</td>\n",
       "      <td>sao goncalo do amarante</td>\n",
       "      <td>RN</td>\n",
       "      <td>45.00</td>\n",
       "      <td>3.0</td>\n",
       "      <td>pet_shop</td>\n",
       "      <td>72.20</td>\n",
       "    </tr>\n",
       "    <tr>\n",
       "      <th>6</th>\n",
       "      <td>ad21c59c0840e6cb83a9ceb5573f8159</td>\n",
       "      <td>5.0</td>\n",
       "      <td>credit_card</td>\n",
       "      <td>1.0</td>\n",
       "      <td>28.62</td>\n",
       "      <td>santo andre</td>\n",
       "      <td>SP</td>\n",
       "      <td>19.90</td>\n",
       "      <td>4.0</td>\n",
       "      <td>stationery</td>\n",
       "      <td>28.62</td>\n",
       "    </tr>\n",
       "    <tr>\n",
       "      <th>7</th>\n",
       "      <td>a4591c265e18cb1dcee52889e2d8acc3</td>\n",
       "      <td>4.0</td>\n",
       "      <td>credit_card</td>\n",
       "      <td>6.0</td>\n",
       "      <td>175.26</td>\n",
       "      <td>congonhinhas</td>\n",
       "      <td>PR</td>\n",
       "      <td>147.90</td>\n",
       "      <td>1.0</td>\n",
       "      <td>auto</td>\n",
       "      <td>175.26</td>\n",
       "    </tr>\n",
       "    <tr>\n",
       "      <th>8</th>\n",
       "      <td>6514b8ad8028c9f2cc2374ded245783f</td>\n",
       "      <td>5.0</td>\n",
       "      <td>credit_card</td>\n",
       "      <td>3.0</td>\n",
       "      <td>75.16</td>\n",
       "      <td>nilopolis</td>\n",
       "      <td>RJ</td>\n",
       "      <td>59.99</td>\n",
       "      <td>1.0</td>\n",
       "      <td>auto</td>\n",
       "      <td>75.16</td>\n",
       "    </tr>\n",
       "    <tr>\n",
       "      <th>9</th>\n",
       "      <td>76c6e866289321a7c93b82b54852dc33</td>\n",
       "      <td>1.0</td>\n",
       "      <td>boleto</td>\n",
       "      <td>1.0</td>\n",
       "      <td>35.95</td>\n",
       "      <td>faxinalzinho</td>\n",
       "      <td>RS</td>\n",
       "      <td>19.90</td>\n",
       "      <td>2.0</td>\n",
       "      <td>furniture_decor</td>\n",
       "      <td>35.95</td>\n",
       "    </tr>\n",
       "    <tr>\n",
       "      <th>10</th>\n",
       "      <td>e69bfb5eb88e0ed6a785585b27e16dbf</td>\n",
       "      <td>5.0</td>\n",
       "      <td>voucher</td>\n",
       "      <td>1.0</td>\n",
       "      <td>161.42</td>\n",
       "      <td>sorocaba</td>\n",
       "      <td>SP</td>\n",
       "      <td>149.99</td>\n",
       "      <td>1.0</td>\n",
       "      <td>office_furniture</td>\n",
       "      <td>169.76</td>\n",
       "    </tr>\n",
       "    <tr>\n",
       "      <th>11</th>\n",
       "      <td>e69bfb5eb88e0ed6a785585b27e16dbf</td>\n",
       "      <td>5.0</td>\n",
       "      <td>credit_card</td>\n",
       "      <td>1.0</td>\n",
       "      <td>8.34</td>\n",
       "      <td>sorocaba</td>\n",
       "      <td>SP</td>\n",
       "      <td>149.99</td>\n",
       "      <td>1.0</td>\n",
       "      <td>office_furniture</td>\n",
       "      <td>169.76</td>\n",
       "    </tr>\n",
       "    <tr>\n",
       "      <th>12</th>\n",
       "      <td>e6ce16cb79ec1d90b1da9085a6118aeb</td>\n",
       "      <td>1.0</td>\n",
       "      <td>credit_card</td>\n",
       "      <td>1.0</td>\n",
       "      <td>259.06</td>\n",
       "      <td>rio de janeiro</td>\n",
       "      <td>RJ</td>\n",
       "      <td>99.00</td>\n",
       "      <td>1.0</td>\n",
       "      <td>garden_tools</td>\n",
       "      <td>518.12</td>\n",
       "    </tr>\n",
       "    <tr>\n",
       "      <th>13</th>\n",
       "      <td>e6ce16cb79ec1d90b1da9085a6118aeb</td>\n",
       "      <td>1.0</td>\n",
       "      <td>credit_card</td>\n",
       "      <td>1.0</td>\n",
       "      <td>259.06</td>\n",
       "      <td>rio de janeiro</td>\n",
       "      <td>RJ</td>\n",
       "      <td>99.00</td>\n",
       "      <td>1.0</td>\n",
       "      <td>garden_tools</td>\n",
       "      <td>518.12</td>\n",
       "    </tr>\n",
       "    <tr>\n",
       "      <th>14</th>\n",
       "      <td>34513ce0c4fab462a55830c0989c7edb</td>\n",
       "      <td>4.0</td>\n",
       "      <td>credit_card</td>\n",
       "      <td>1.0</td>\n",
       "      <td>114.13</td>\n",
       "      <td>sao paulo</td>\n",
       "      <td>SP</td>\n",
       "      <td>98.00</td>\n",
       "      <td>1.0</td>\n",
       "      <td>computers_accessories</td>\n",
       "      <td>114.13</td>\n",
       "    </tr>\n",
       "    <tr>\n",
       "      <th>15</th>\n",
       "      <td>82566a660a982b15fb86e904c8d32918</td>\n",
       "      <td>5.0</td>\n",
       "      <td>boleto</td>\n",
       "      <td>1.0</td>\n",
       "      <td>50.13</td>\n",
       "      <td>ouro preto</td>\n",
       "      <td>MG</td>\n",
       "      <td>31.90</td>\n",
       "      <td>1.0</td>\n",
       "      <td>perfumery</td>\n",
       "      <td>50.13</td>\n",
       "    </tr>\n",
       "    <tr>\n",
       "      <th>16</th>\n",
       "      <td>5ff96c15d0b717ac6ad1f3d77225a350</td>\n",
       "      <td>5.0</td>\n",
       "      <td>credit_card</td>\n",
       "      <td>3.0</td>\n",
       "      <td>32.70</td>\n",
       "      <td>sao paulo</td>\n",
       "      <td>SP</td>\n",
       "      <td>19.90</td>\n",
       "      <td>1.0</td>\n",
       "      <td>bed_bath_table</td>\n",
       "      <td>32.70</td>\n",
       "    </tr>\n",
       "    <tr>\n",
       "      <th>17</th>\n",
       "      <td>432aaf21d85167c2c86ec9448c4e42cc</td>\n",
       "      <td>4.0</td>\n",
       "      <td>credit_card</td>\n",
       "      <td>1.0</td>\n",
       "      <td>54.36</td>\n",
       "      <td>sao paulo</td>\n",
       "      <td>SP</td>\n",
       "      <td>38.25</td>\n",
       "      <td>2.0</td>\n",
       "      <td>toys</td>\n",
       "      <td>54.36</td>\n",
       "    </tr>\n",
       "    <tr>\n",
       "      <th>18</th>\n",
       "      <td>dcb36b511fcac050b97cd5c05de84dc3</td>\n",
       "      <td>5.0</td>\n",
       "      <td>credit_card</td>\n",
       "      <td>10.0</td>\n",
       "      <td>146.45</td>\n",
       "      <td>goiania</td>\n",
       "      <td>GO</td>\n",
       "      <td>132.40</td>\n",
       "      <td>3.0</td>\n",
       "      <td>perfumery</td>\n",
       "      <td>146.45</td>\n",
       "    </tr>\n",
       "    <tr>\n",
       "      <th>19</th>\n",
       "      <td>403b97836b0c04a622354cf531062e5f</td>\n",
       "      <td>4.0</td>\n",
       "      <td>credit_card</td>\n",
       "      <td>10.0</td>\n",
       "      <td>1376.45</td>\n",
       "      <td>rio de janeiro</td>\n",
       "      <td>RJ</td>\n",
       "      <td>1299.00</td>\n",
       "      <td>2.0</td>\n",
       "      <td>construction_tools_construction</td>\n",
       "      <td>1376.45</td>\n",
       "    </tr>\n",
       "  </tbody>\n",
       "</table>\n",
       "</div>"
      ],
      "text/plain": [
       "                            order_id  review_score payment_type  \\\n",
       "0   e481f51cbdc54678b7cc49136f2d6af7           4.0  credit_card   \n",
       "1   e481f51cbdc54678b7cc49136f2d6af7           4.0      voucher   \n",
       "2   e481f51cbdc54678b7cc49136f2d6af7           4.0      voucher   \n",
       "3   53cdb2fc8bc7dce0b6741e2150273451           4.0       boleto   \n",
       "4   47770eb9100c2d0c44946d9cf07ec65d           5.0  credit_card   \n",
       "5   949d5b44dbf5de918fe9c16f97b45f8a           5.0  credit_card   \n",
       "6   ad21c59c0840e6cb83a9ceb5573f8159           5.0  credit_card   \n",
       "7   a4591c265e18cb1dcee52889e2d8acc3           4.0  credit_card   \n",
       "8   6514b8ad8028c9f2cc2374ded245783f           5.0  credit_card   \n",
       "9   76c6e866289321a7c93b82b54852dc33           1.0       boleto   \n",
       "10  e69bfb5eb88e0ed6a785585b27e16dbf           5.0      voucher   \n",
       "11  e69bfb5eb88e0ed6a785585b27e16dbf           5.0  credit_card   \n",
       "12  e6ce16cb79ec1d90b1da9085a6118aeb           1.0  credit_card   \n",
       "13  e6ce16cb79ec1d90b1da9085a6118aeb           1.0  credit_card   \n",
       "14  34513ce0c4fab462a55830c0989c7edb           4.0  credit_card   \n",
       "15  82566a660a982b15fb86e904c8d32918           5.0       boleto   \n",
       "16  5ff96c15d0b717ac6ad1f3d77225a350           5.0  credit_card   \n",
       "17  432aaf21d85167c2c86ec9448c4e42cc           4.0  credit_card   \n",
       "18  dcb36b511fcac050b97cd5c05de84dc3           5.0  credit_card   \n",
       "19  403b97836b0c04a622354cf531062e5f           4.0  credit_card   \n",
       "\n",
       "    payment_installments  payment_value            customer_city  \\\n",
       "0                    1.0          18.12                sao paulo   \n",
       "1                    1.0           2.00                sao paulo   \n",
       "2                    1.0          18.59                sao paulo   \n",
       "3                    1.0         141.46                barreiras   \n",
       "4                    3.0         179.12               vianopolis   \n",
       "5                    1.0          72.20  sao goncalo do amarante   \n",
       "6                    1.0          28.62              santo andre   \n",
       "7                    6.0         175.26             congonhinhas   \n",
       "8                    3.0          75.16                nilopolis   \n",
       "9                    1.0          35.95             faxinalzinho   \n",
       "10                   1.0         161.42                 sorocaba   \n",
       "11                   1.0           8.34                 sorocaba   \n",
       "12                   1.0         259.06           rio de janeiro   \n",
       "13                   1.0         259.06           rio de janeiro   \n",
       "14                   1.0         114.13                sao paulo   \n",
       "15                   1.0          50.13               ouro preto   \n",
       "16                   3.0          32.70                sao paulo   \n",
       "17                   1.0          54.36                sao paulo   \n",
       "18                  10.0         146.45                  goiania   \n",
       "19                  10.0        1376.45           rio de janeiro   \n",
       "\n",
       "   customer_state    price  product_photos_qty  \\\n",
       "0              SP    29.99                 4.0   \n",
       "1              SP    29.99                 4.0   \n",
       "2              SP    29.99                 4.0   \n",
       "3              BA   118.70                 1.0   \n",
       "4              GO   159.90                 1.0   \n",
       "5              RN    45.00                 3.0   \n",
       "6              SP    19.90                 4.0   \n",
       "7              PR   147.90                 1.0   \n",
       "8              RJ    59.99                 1.0   \n",
       "9              RS    19.90                 2.0   \n",
       "10             SP   149.99                 1.0   \n",
       "11             SP   149.99                 1.0   \n",
       "12             RJ    99.00                 1.0   \n",
       "13             RJ    99.00                 1.0   \n",
       "14             SP    98.00                 1.0   \n",
       "15             MG    31.90                 1.0   \n",
       "16             SP    19.90                 1.0   \n",
       "17             SP    38.25                 2.0   \n",
       "18             GO   132.40                 3.0   \n",
       "19             RJ  1299.00                 2.0   \n",
       "\n",
       "      product_category_name_english  totalpayment_value  \n",
       "0                        housewares               38.71  \n",
       "1                        housewares               38.71  \n",
       "2                        housewares               38.71  \n",
       "3                         perfumery              141.46  \n",
       "4                              auto              179.12  \n",
       "5                          pet_shop               72.20  \n",
       "6                        stationery               28.62  \n",
       "7                              auto              175.26  \n",
       "8                              auto               75.16  \n",
       "9                   furniture_decor               35.95  \n",
       "10                 office_furniture              169.76  \n",
       "11                 office_furniture              169.76  \n",
       "12                     garden_tools              518.12  \n",
       "13                     garden_tools              518.12  \n",
       "14            computers_accessories              114.13  \n",
       "15                        perfumery               50.13  \n",
       "16                   bed_bath_table               32.70  \n",
       "17                             toys               54.36  \n",
       "18                        perfumery              146.45  \n",
       "19  construction_tools_construction             1376.45  "
      ]
     },
     "execution_count": 77,
     "metadata": {},
     "output_type": "execute_result"
    }
   ],
   "source": [
    "#  Viewing Remaining data\n",
    "olist_data.head(20)"
   ]
  },
  {
   "cell_type": "code",
   "execution_count": 78,
   "metadata": {},
   "outputs": [],
   "source": [
    "# Dropping Duplicate Rows based on order_id, resulting in 1 row per order. Applying attributes of highest product value (first row per order) to each remaining order_id.  This results in manipulating our dataset to be based on an order-level rows rather than product-purcahsed level data.\n",
    "import pandas as pd\n",
    "import numpy as np\n",
    "olist_data = olist_data.drop_duplicates(subset='order_id', keep=\"first\")"
   ]
  },
  {
   "cell_type": "code",
   "execution_count": 79,
   "metadata": {},
   "outputs": [],
   "source": [
    "# Now that we have a totalpayment_value, we can drop the redundant product level features including  \n",
    "olist_data = olist_data.drop(['price', 'payment_value', 'order_id'], axis=1)"
   ]
  },
  {
   "cell_type": "code",
   "execution_count": 80,
   "metadata": {},
   "outputs": [
    {
     "name": "stdout",
     "output_type": "stream",
     "text": [
      "<class 'pandas.core.frame.DataFrame'>\n",
      "Int64Index: 97253 entries, 0 to 116583\n",
      "Data columns (total 8 columns):\n",
      " #   Column                         Non-Null Count  Dtype  \n",
      "---  ------                         --------------  -----  \n",
      " 0   review_score                   97253 non-null  float64\n",
      " 1   payment_type                   97253 non-null  object \n",
      " 2   payment_installments           97253 non-null  float64\n",
      " 3   customer_city                  97253 non-null  object \n",
      " 4   customer_state                 97253 non-null  object \n",
      " 5   product_photos_qty             97253 non-null  float64\n",
      " 6   product_category_name_english  97253 non-null  object \n",
      " 7   totalpayment_value             97253 non-null  float64\n",
      "dtypes: float64(4), object(4)\n",
      "memory usage: 6.7+ MB\n"
     ]
    }
   ],
   "source": [
    "# Viewing Olist Data - Structured on Order Level\n",
    "olist_data.info()"
   ]
  },
  {
   "cell_type": "markdown",
   "metadata": {},
   "source": [
    "### Plotting Features and Correlation Matrix "
   ]
  },
  {
   "cell_type": "code",
   "execution_count": 81,
   "metadata": {
    "scrolled": true
   },
   "outputs": [
    {
     "data": {
      "application/javascript": [
       "\n",
       "        if (window._pyforest_update_imports_cell) { window._pyforest_update_imports_cell('import pandas as pd\\nimport seaborn as sns\\nfrom sklearn.model_selection import train_test_split'); }\n",
       "    "
      ],
      "text/plain": [
       "<IPython.core.display.Javascript object>"
      ]
     },
     "metadata": {},
     "output_type": "display_data"
    },
    {
     "data": {
      "text/plain": [
       "<matplotlib.axes._subplots.AxesSubplot at 0x7fdaaecfa460>"
      ]
     },
     "execution_count": 81,
     "metadata": {},
     "output_type": "execute_result"
    },
    {
     "data": {
      "image/png": "[encoded data removed]",
      "text/plain": [
       "<Figure size 432x288 with 1 Axes>"
      ]
     },
     "metadata": {
      "needs_background": "light"
     },
     "output_type": "display_data"
    }
   ],
   "source": [
    "sns.countplot(x='review_score', data = olist_data)"
   ]
  },
  {
   "cell_type": "code",
   "execution_count": 82,
   "metadata": {},
   "outputs": [
    {
     "data": {
      "application/javascript": [
       "\n",
       "        if (window._pyforest_update_imports_cell) { window._pyforest_update_imports_cell('import pandas as pd\\nimport seaborn as sns\\nfrom sklearn.model_selection import train_test_split'); }\n",
       "    "
      ],
      "text/plain": [
       "<IPython.core.display.Javascript object>"
      ]
     },
     "metadata": {},
     "output_type": "display_data"
    },
    {
     "data": {
      "text/plain": [
       "<matplotlib.axes._subplots.AxesSubplot at 0x7fdaaeed49a0>"
      ]
     },
     "execution_count": 82,
     "metadata": {},
     "output_type": "execute_result"
    },
    {
     "data": {
      "image/png": "[encoded data removed]",
      "text/plain": [
       "<Figure size 432x288 with 1 Axes>"
      ]
     },
     "metadata": {
      "needs_background": "light"
     },
     "output_type": "display_data"
    }
   ],
   "source": [
    "sns.countplot(x='payment_type', data = olist_data)"
   ]
  },
  {
   "cell_type": "code",
   "execution_count": 83,
   "metadata": {},
   "outputs": [
    {
     "data": {
      "application/javascript": [
       "\n",
       "        if (window._pyforest_update_imports_cell) { window._pyforest_update_imports_cell('import pandas as pd\\nimport seaborn as sns\\nfrom sklearn.model_selection import train_test_split'); }\n",
       "    "
      ],
      "text/plain": [
       "<IPython.core.display.Javascript object>"
      ]
     },
     "metadata": {},
     "output_type": "display_data"
    },
    {
     "data": {
      "text/plain": [
       "<matplotlib.axes._subplots.AxesSubplot at 0x7fdaadd70af0>"
      ]
     },
     "execution_count": 83,
     "metadata": {},
     "output_type": "execute_result"
    },
    {
     "data": {
      "image/png": "[encoded data removed]",
      "text/plain": [
       "<Figure size 432x288 with 1 Axes>"
      ]
     },
     "metadata": {
      "needs_background": "light"
     },
     "output_type": "display_data"
    }
   ],
   "source": [
    "sns.countplot(x='payment_installments', data = olist_data)"
   ]
  },
  {
   "cell_type": "code",
   "execution_count": 84,
   "metadata": {},
   "outputs": [
    {
     "data": {
      "application/javascript": [
       "\n",
       "        if (window._pyforest_update_imports_cell) { window._pyforest_update_imports_cell('import pandas as pd\\nimport seaborn as sns\\nfrom sklearn.model_selection import train_test_split'); }\n",
       "    "
      ],
      "text/plain": [
       "<IPython.core.display.Javascript object>"
      ]
     },
     "metadata": {},
     "output_type": "display_data"
    },
    {
     "data": {
      "text/plain": [
       "<matplotlib.axes._subplots.AxesSubplot at 0x7fdab22aaf70>"
      ]
     },
     "execution_count": 84,
     "metadata": {},
     "output_type": "execute_result"
    },
    {
     "data": {
      "image/png": "[encoded data removed]",
      "text/plain": [
       "<Figure size 432x288 with 1 Axes>"
      ]
     },
     "metadata": {
      "needs_background": "light"
     },
     "output_type": "display_data"
    }
   ],
   "source": [
    "sns.countplot(x='customer_state', data = olist_data)"
   ]
  },
  {
   "cell_type": "code",
   "execution_count": 85,
   "metadata": {},
   "outputs": [
    {
     "data": {
      "application/javascript": [
       "\n",
       "        if (window._pyforest_update_imports_cell) { window._pyforest_update_imports_cell('import pandas as pd\\nimport seaborn as sns\\nfrom sklearn.model_selection import train_test_split'); }\n",
       "    "
      ],
      "text/plain": [
       "<IPython.core.display.Javascript object>"
      ]
     },
     "metadata": {},
     "output_type": "display_data"
    },
    {
     "data": {
      "text/plain": [
       "<matplotlib.axes._subplots.AxesSubplot at 0x7fdaaed75e80>"
      ]
     },
     "execution_count": 85,
     "metadata": {},
     "output_type": "execute_result"
    },
    {
     "data": {
      "image/png": "[encoded data removed]",
      "text/plain": [
       "<Figure size 432x288 with 1 Axes>"
      ]
     },
     "metadata": {
      "needs_background": "light"
     },
     "output_type": "display_data"
    }
   ],
   "source": [
    "sns.countplot(x='product_photos_qty', data = olist_data)"
   ]
  },
  {
   "cell_type": "code",
   "execution_count": 86,
   "metadata": {},
   "outputs": [
    {
     "data": {
      "application/javascript": [
       "\n",
       "        if (window._pyforest_update_imports_cell) { window._pyforest_update_imports_cell('import pandas as pd\\nimport seaborn as sns\\nfrom sklearn.model_selection import train_test_split'); }\n",
       "    "
      ],
      "text/plain": [
       "<IPython.core.display.Javascript object>"
      ]
     },
     "metadata": {},
     "output_type": "display_data"
    },
    {
     "data": {
      "text/plain": [
       "<matplotlib.axes._subplots.AxesSubplot at 0x7fdab0692d90>"
      ]
     },
     "execution_count": 86,
     "metadata": {},
     "output_type": "execute_result"
    },
    {
     "data": {
      "image/png": "[encoded data removed]",
      "text/plain": [
       "<Figure size 432x288 with 1 Axes>"
      ]
     },
     "metadata": {
      "needs_background": "light"
     },
     "output_type": "display_data"
    }
   ],
   "source": [
    "sns.countplot(x='product_category_name_english', data = olist_data)"
   ]
  },
  {
   "cell_type": "code",
   "execution_count": 87,
   "metadata": {},
   "outputs": [
    {
     "data": {
      "application/javascript": [
       "\n",
       "        if (window._pyforest_update_imports_cell) { window._pyforest_update_imports_cell('import pandas as pd\\nimport seaborn as sns\\nfrom sklearn.model_selection import train_test_split'); }\n",
       "    "
      ],
      "text/plain": [
       "<IPython.core.display.Javascript object>"
      ]
     },
     "metadata": {},
     "output_type": "display_data"
    },
    {
     "data": {
      "text/plain": [
       "<matplotlib.axes._subplots.AxesSubplot at 0x7fdab1e13850>"
      ]
     },
     "execution_count": 87,
     "metadata": {},
     "output_type": "execute_result"
    },
    {
     "data": {
      "image/png": "[encoded data removed]",
      "text/plain": [
       "<Figure size 432x288 with 2 Axes>"
      ]
     },
     "metadata": {
      "needs_background": "light"
     },
     "output_type": "display_data"
    }
   ],
   "source": [
    "# Creating and Printing the Correlation Matrix\n",
    "sns.heatmap(olist_data.corr())"
   ]
  },
  {
   "cell_type": "code",
   "execution_count": 88,
   "metadata": {},
   "outputs": [
    {
     "data": {
      "text/html": [
       "<div>\n",
       "<style scoped>\n",
       "    .dataframe tbody tr th:only-of-type {\n",
       "        vertical-align: middle;\n",
       "    }\n",
       "\n",
       "    .dataframe tbody tr th {\n",
       "        vertical-align: top;\n",
       "    }\n",
       "\n",
       "    .dataframe thead th {\n",
       "        text-align: right;\n",
       "    }\n",
       "</style>\n",
       "<table border=\"1\" class=\"dataframe\">\n",
       "  <thead>\n",
       "    <tr style=\"text-align: right;\">\n",
       "      <th></th>\n",
       "      <th>review_score</th>\n",
       "      <th>payment_type</th>\n",
       "      <th>payment_installments</th>\n",
       "      <th>customer_city</th>\n",
       "      <th>customer_state</th>\n",
       "      <th>product_photos_qty</th>\n",
       "      <th>product_category_name_english</th>\n",
       "      <th>totalpayment_value</th>\n",
       "    </tr>\n",
       "  </thead>\n",
       "  <tbody>\n",
       "    <tr>\n",
       "      <th>0</th>\n",
       "      <td>4.0</td>\n",
       "      <td>credit_card</td>\n",
       "      <td>1.0</td>\n",
       "      <td>sao paulo</td>\n",
       "      <td>SP</td>\n",
       "      <td>4.0</td>\n",
       "      <td>housewares</td>\n",
       "      <td>38.71</td>\n",
       "    </tr>\n",
       "    <tr>\n",
       "      <th>3</th>\n",
       "      <td>4.0</td>\n",
       "      <td>boleto</td>\n",
       "      <td>1.0</td>\n",
       "      <td>barreiras</td>\n",
       "      <td>BA</td>\n",
       "      <td>1.0</td>\n",
       "      <td>perfumery</td>\n",
       "      <td>141.46</td>\n",
       "    </tr>\n",
       "    <tr>\n",
       "      <th>4</th>\n",
       "      <td>5.0</td>\n",
       "      <td>credit_card</td>\n",
       "      <td>3.0</td>\n",
       "      <td>vianopolis</td>\n",
       "      <td>GO</td>\n",
       "      <td>1.0</td>\n",
       "      <td>auto</td>\n",
       "      <td>179.12</td>\n",
       "    </tr>\n",
       "    <tr>\n",
       "      <th>5</th>\n",
       "      <td>5.0</td>\n",
       "      <td>credit_card</td>\n",
       "      <td>1.0</td>\n",
       "      <td>sao goncalo do amarante</td>\n",
       "      <td>RN</td>\n",
       "      <td>3.0</td>\n",
       "      <td>pet_shop</td>\n",
       "      <td>72.20</td>\n",
       "    </tr>\n",
       "    <tr>\n",
       "      <th>6</th>\n",
       "      <td>5.0</td>\n",
       "      <td>credit_card</td>\n",
       "      <td>1.0</td>\n",
       "      <td>santo andre</td>\n",
       "      <td>SP</td>\n",
       "      <td>4.0</td>\n",
       "      <td>stationery</td>\n",
       "      <td>28.62</td>\n",
       "    </tr>\n",
       "  </tbody>\n",
       "</table>\n",
       "</div>"
      ],
      "text/plain": [
       "   review_score payment_type  payment_installments            customer_city  \\\n",
       "0           4.0  credit_card                   1.0                sao paulo   \n",
       "3           4.0       boleto                   1.0                barreiras   \n",
       "4           5.0  credit_card                   3.0               vianopolis   \n",
       "5           5.0  credit_card                   1.0  sao goncalo do amarante   \n",
       "6           5.0  credit_card                   1.0              santo andre   \n",
       "\n",
       "  customer_state  product_photos_qty product_category_name_english  \\\n",
       "0             SP                 4.0                    housewares   \n",
       "3             BA                 1.0                     perfumery   \n",
       "4             GO                 1.0                          auto   \n",
       "5             RN                 3.0                      pet_shop   \n",
       "6             SP                 4.0                    stationery   \n",
       "\n",
       "   totalpayment_value  \n",
       "0               38.71  \n",
       "3              141.46  \n",
       "4              179.12  \n",
       "5               72.20  \n",
       "6               28.62  "
      ]
     },
     "execution_count": 88,
     "metadata": {},
     "output_type": "execute_result"
    }
   ],
   "source": [
    "olist_data.head()"
   ]
  },
  {
   "cell_type": "markdown",
   "metadata": {},
   "source": [
    "#### As we can see here, we have our final Olist dataset before creating dummies and running the test/train split to prepare ourselves for running the predictions using multiple regression algorithms (ex. randomforest, xgboost, adaboost). Notice that this final dataset only includes product and order level data. We will be predicting totalpayment_value per order by using product and order level data. "
   ]
  },
  {
   "cell_type": "markdown",
   "metadata": {},
   "source": [
    "### Creating Dummies and Test/Train Split "
   ]
  },
  {
   "cell_type": "code",
   "execution_count": 89,
   "metadata": {},
   "outputs": [
    {
     "data": {
      "application/javascript": [
       "\n",
       "        if (window._pyforest_update_imports_cell) { window._pyforest_update_imports_cell('import pandas as pd\\nimport seaborn as sns\\nfrom sklearn.model_selection import train_test_split'); }\n",
       "    "
      ],
      "text/plain": [
       "<IPython.core.display.Javascript object>"
      ]
     },
     "metadata": {},
     "output_type": "display_data"
    },
    {
     "name": "stdout",
     "output_type": "stream",
     "text": [
      "X_train Data Shape: (77802, 4200)\n",
      "X_test Data Shape: (19451, 4200)\n",
      "y_train Data Shape: (77802,)\n",
      "y_test Data Shape: (19451,)\n"
     ]
    }
   ],
   "source": [
    "# Converting Categorial Values via Dummies\n",
    "olist_data = pd.get_dummies(olist_data)\n",
    "\n",
    "# Setting the Baselines - values for x and y, where y is only target value - totalpayment_value\n",
    "X = olist_data.drop(labels=['totalpayment_value'], axis=1)\n",
    "y = olist_data['totalpayment_value'].values\n",
    "split_test_size = 0.20\n",
    "\n",
    "X_train, X_test, y_train, y_test = train_test_split(X, y, test_size = split_test_size, random_state=8)\n",
    "\n",
    "print('X_train Data Shape:', X_train.shape)\n",
    "print('X_test Data Shape:', X_test.shape)\n",
    "print('y_train Data Shape:', y_train.shape)\n",
    "print('y_test Data Shape:', y_test.shape)"
   ]
  },
  {
   "cell_type": "markdown",
   "metadata": {},
   "source": [
    "### Running Predictions"
   ]
  },
  {
   "cell_type": "code",
   "execution_count": 95,
   "metadata": {},
   "outputs": [],
   "source": [
    "# Now that Train and Test Split Created, Installing and Importing Algorithms\n",
    "from sklearn.model_selection import train_test_split\n",
    "from sklearn.linear_model import LogisticRegression\n",
    "from sklearn.svm import SVC, LinearSVC\n",
    "from sklearn.neighbors import KNeighborsClassifier\n",
    "from sklearn.tree import DecisionTreeClassifier\n",
    "from sklearn.ensemble import RandomForestClassifier\n",
    "from sklearn.ensemble import RandomForestRegressor\n",
    "from sklearn.naive_bayes import GaussianNB\n",
    "from sklearn.linear_model import Perceptron\n",
    "from sklearn.linear_model import SGDClassifier\n",
    "from xgboost import XGBRegressor\n",
    "from sklearn.metrics import mean_absolute_error\n",
    "from sklearn.ensemble import AdaBoostRegressor"
   ]
  },
  {
   "cell_type": "code",
   "execution_count": 98,
   "metadata": {},
   "outputs": [
    {
     "name": "stdout",
     "output_type": "stream",
     "text": [
      "-7.47\n"
     ]
    }
   ],
   "source": [
    "#Running XGB Algorithm without using UDF - example\n",
    "xgb_model = XGBRegressor(n_jobs=-1)\n",
    "xgb_model.fit(X_train, y_train)\n",
    "y_pred_xgb_model = xgb_model.predict(X_test)\n",
    "acc_xgb_model = round(xgb_model.score(X_test, y_test)*100, 2)\n",
    "print(acc_xgb_model)"
   ]
  },
  {
   "cell_type": "code",
   "execution_count": 99,
   "metadata": {},
   "outputs": [
    {
     "name": "stdout",
     "output_type": "stream",
     "text": [
      "Mean Absolute error in predicting test data 157.08085933878232\n"
     ]
    }
   ],
   "source": [
    "# Printing MSE for XGBoost Algorithm\n",
    "print(\"Mean Absolute error in predicting test data\",mean_absolute_error(y_test,y_pred_xgb_model))"
   ]
  },
  {
   "cell_type": "code",
   "execution_count": 100,
   "metadata": {},
   "outputs": [
    {
     "name": "stdout",
     "output_type": "stream",
     "text": [
      "-12.36\n"
     ]
    }
   ],
   "source": [
    "#Running RandomForest Algorithm\n",
    "random_forest = RandomForestRegressor(n_estimators = 100, n_jobs=-1)\n",
    "random_forest.fit(X_train, y_train)\n",
    "y_pred_random_forest = random_forest.predict(X_test)\n",
    "acc_random_forest = round(random_forest.score(X_test, y_test)*100, 2)\n",
    "print(acc_random_forest) "
   ]
  },
  {
   "cell_type": "code",
   "execution_count": 101,
   "metadata": {},
   "outputs": [
    {
     "name": "stdout",
     "output_type": "stream",
     "text": [
      "Mean Absolute error in predicting test data 158.09632106920327\n"
     ]
    }
   ],
   "source": [
    "# Printing MSE for RandomForest \n",
    "print(\"Mean Absolute error in predicting test data\",mean_absolute_error(y_test,y_pred_random_forest))"
   ]
  },
  {
   "cell_type": "code",
   "execution_count": 102,
   "metadata": {},
   "outputs": [
    {
     "name": "stdout",
     "output_type": "stream",
     "text": [
      "-91.79\n"
     ]
    }
   ],
   "source": [
    "#Running AdaBoost Algorithm without using UDF - example\n",
    "ada_model = AdaBoostRegressor(n_jobs=-1)\n",
    "ada_model.fit(X_train, y_train)\n",
    "y_pred_ada_model = ada_model.predict(X_test)\n",
    "acc_ada_model = round(ada_model.score(X_test, y_test)*100, 2)\n",
    "print(acc_ada_model)"
   ]
  },
  {
   "cell_type": "code",
   "execution_count": 103,
   "metadata": {},
   "outputs": [
    {
     "name": "stdout",
     "output_type": "stream",
     "text": [
      "Mean Absolute error in predicting test data 202.78249623677598\n"
     ]
    }
   ],
   "source": [
    "# Printing MSE for AdaBoost Algorithm\n",
    "print(\"Mean Absolute error in predicting test data\",mean_absolute_error(y_test,y_pred_ada_model))"
   ]
  },
  {
   "cell_type": "markdown",
   "metadata": {},
   "source": [
    "#### From the models and accuracy above, we can see we need to alter our data cleaning and processing process to improve the accuracy of these predictions. One thing we could do to improve the accuracy of our prediction models for Olist sellers to be able to predict potential revenue from customers is to include the results from our customer segmentation analysis. We can also improve this model by including more features and running a GridSearch to select the most important features. This would help increase the accuracy of our model. We plan to present this as a future analysis that can be conducted due to its ability to be benefits by including results from other parts of our business insights deep-dive including the customer segmentation results using RFM, which were more accurate than those conducted by Kmeans. "
   ]
  },
  {
   "cell_type": "code",
   "execution_count": 104,
   "metadata": {},
   "outputs": [],
   "source": [
    "# Collecting Top 20 Important Features as DF\n",
    "imp_features = pd.Series(xgb_model.feature_importances_,index=X.columns).sort_values(ascending=False)\n",
    "imp_features=pd.DataFrame(imp_features.reset_index())\n",
    "imp_features.columns=['variable_name','importance']\n",
    "imp_features = imp_features.head(20)"
   ]
  },
  {
   "cell_type": "code",
   "execution_count": 105,
   "metadata": {},
   "outputs": [
    {
     "data": {
      "application/javascript": [
       "\n",
       "        if (window._pyforest_update_imports_cell) { window._pyforest_update_imports_cell('import pandas as pd\\nfrom sklearn.model_selection import train_test_split\\nimport seaborn as sns\\nimport matplotlib.pyplot as plt'); }\n",
       "    "
      ],
      "text/plain": [
       "<IPython.core.display.Javascript object>"
      ]
     },
     "metadata": {},
     "output_type": "display_data"
    },
    {
     "name": "stderr",
     "output_type": "stream",
     "text": [
      "/Users/SahilSachdev/opt/anaconda3/lib/python3.8/site-packages/seaborn/_decorators.py:36: FutureWarning: Pass the following variables as keyword args: x, y. From version 0.12, the only valid positional argument will be `data`, and passing other arguments without an explicit keyword will result in an error or misinterpretation.\n",
      "  warnings.warn(\n"
     ]
    },
    {
     "data": {
      "application/javascript": [
       "\n",
       "        if (window._pyforest_update_imports_cell) { window._pyforest_update_imports_cell('import pandas as pd\\nfrom sklearn.model_selection import train_test_split\\nimport seaborn as sns\\nimport matplotlib.pyplot as plt'); }\n",
       "    "
      ],
      "text/plain": [
       "<IPython.core.display.Javascript object>"
      ]
     },
     "metadata": {},
     "output_type": "display_data"
    },
    {
     "data": {
      "application/javascript": [
       "\n",
       "        if (window._pyforest_update_imports_cell) { window._pyforest_update_imports_cell('import pandas as pd\\nfrom sklearn.model_selection import train_test_split\\nimport seaborn as sns\\nimport matplotlib.pyplot as plt'); }\n",
       "    "
      ],
      "text/plain": [
       "<IPython.core.display.Javascript object>"
      ]
     },
     "metadata": {},
     "output_type": "display_data"
    },
    {
     "data": {
      "text/plain": [
       "(array([ 0,  1,  2,  3,  4,  5,  6,  7,  8,  9, 10, 11, 12, 13, 14, 15, 16,\n",
       "        17, 18, 19]),\n",
       " <a list of 20 Text major ticklabel objects>)"
      ]
     },
     "execution_count": 105,
     "metadata": {},
     "output_type": "execute_result"
    },
    {
     "data": {
      "image/png": "[encoded data removed]",
      "text/plain": [
       "<Figure size 432x288 with 1 Axes>"
      ]
     },
     "metadata": {
      "needs_background": "light"
     },
     "output_type": "display_data"
    }
   ],
   "source": [
    "# Plotting Important Features in Bargraph\n",
    "    sns.barplot('variable_name','importance',data=imp_features)\n",
    "    plt.title('Feature Importance Plot')\n",
    "    plt.xticks(rotation=80)"
   ]
  }
 ],
 "metadata": {
  "kernelspec": {
   "display_name": "Python 3",
   "language": "python",
   "name": "python3"
  },
  "language_info": {
   "codemirror_mode": {
    "name": "ipython",
    "version": 3
   },
   "file_extension": ".py",
   "mimetype": "text/x-python",
   "name": "python",
   "nbconvert_exporter": "python",
   "pygments_lexer": "ipython3",
   "version": "3.8.3"
  }
 },
 "nbformat": 4,
 "nbformat_minor": 4
}
